{
  "nbformat": 4,
  "nbformat_minor": 0,
  "metadata": {
    "colab": {
      "name": "Hiring_Opportunity_Prediction.ipynb",
      "version": "0.3.2",
      "provenance": [],
      "include_colab_link": true
    },
    "language_info": {
      "codemirror_mode": {
        "name": "ipython",
        "version": 3
      },
      "file_extension": ".py",
      "mimetype": "text/x-python",
      "name": "python",
      "nbconvert_exporter": "python",
      "pygments_lexer": "ipython3",
      "version": "3.6.5"
    },
    "kernelspec": {
      "display_name": "Python 3",
      "language": "python",
      "name": "python3"
    }
  },
  "cells": [
    {
      "cell_type": "markdown",
      "metadata": {
        "id": "view-in-github",
        "colab_type": "text"
      },
      "source": [
        "<a href=\"https://colab.research.google.com/github/BeverlyHuang/hiring_opportunity_prediction/blob/master/Hiring_Opportunity_Prediction.ipynb\" target=\"_parent\"><img src=\"https://colab.research.google.com/assets/colab-badge.svg\" alt=\"Open In Colab\"/></a>"
      ]
    },
    {
      "cell_type": "markdown",
      "metadata": {
        "id": "GYs3_glWUasi",
        "colab_type": "text"
      },
      "source": [
        "# Maximizing the Opportunity to be Hired"
      ]
    },
    {
      "cell_type": "markdown",
      "metadata": {
        "id": "CSl2ekxdaQ_I",
        "colab_type": "text"
      },
      "source": [
        "### Business Understanding\n",
        "As a marketplace connecting freelance labor with local demand, the company is not only building a digital supply chain network, but also creating a reliable ecosystem in your local community. Thus, to increase the supply chain sustainability, we need to increase the success in the matching process - allowing consumers to find immediate help and allowing taskers to be selected more frequently.\n",
        "Currently, whenever a Client searches for Taskers, the customer will be given a recommendation of\n",
        "up to 15 Taskers from which the Client can choose one to book. In this project, I want to understand what makes a Client choose a tasker, and thus how can a Tasker maximize the opportunity to be hired.\n",
        "\n",
        "### Data Preparation\n",
        "The sample dataset contains information about \"recommendations\". For each recommendation, the position of the Tasker in the recommendation set, the hourly rate for the Tasker when they were shown, the number of Tasks the Tasker had completed in that category, whether the Tasker was hired or not, and the category of work the Client needs help with are collected.\n",
        "Since every recommendation has 1 “hired” and 14 “not hired”, the dataset is highly imbalanced. This will cause bias in the classification model. To solve this problem, I oversampled the minority class by duplicating “hired” entries 14 times.\n"
      ]
    },
    {
      "cell_type": "markdown",
      "metadata": {
        "id": "lxgJafZEUask",
        "colab_type": "text"
      },
      "source": [
        "## Import Packages"
      ]
    },
    {
      "cell_type": "code",
      "metadata": {
        "id": "Qljdpr6aUasl",
        "colab_type": "code",
        "colab": {}
      },
      "source": [
        "import numpy as np\n",
        "import pandas as pd\n",
        "import seaborn as sns\n",
        "import matplotlib.pyplot as plt\n",
        "%matplotlib inline\n",
        "\n",
        "from sklearn.ensemble import RandomForestClassifier\n",
        "from sklearn import model_selection\n",
        "from sklearn.model_selection import train_test_split, GridSearchCV, RandomizedSearchCV\n",
        "from yellowbrick.classifier import ConfusionMatrix\n",
        "from sklearn.metrics import classification_report\n",
        "from yellowbrick.classifier import ConfusionMatrix, ROCAUC\n",
        "\n",
        "from tpot import TPOTClassifier\n",
        "\n",
        "import keras\n",
        "from keras.layers import Dense\n",
        "from keras.models import Sequential\n",
        "from keras.utils import to_categorical\n",
        "from keras.callbacks import EarlyStopping\n",
        "\n",
        "import warnings\n",
        "warnings.filterwarnings(\"ignore\")"
      ],
      "execution_count": 0,
      "outputs": []
    },
    {
      "cell_type": "markdown",
      "metadata": {
        "id": "5hwfiEaiUaso",
        "colab_type": "text"
      },
      "source": [
        "## Data Preparation"
      ]
    },
    {
      "cell_type": "code",
      "metadata": {
        "id": "j26MdMEDUasp",
        "colab_type": "code",
        "colab": {},
        "outputId": "8683cdc4-00b8-472e-a25b-2cbd67466a96"
      },
      "source": [
        "data = pd.read_csv(\"sample.csv\")\n",
        "data.head()"
      ],
      "execution_count": 0,
      "outputs": [
        {
          "output_type": "execute_result",
          "data": {
            "text/html": [
              "<div>\n",
              "<style scoped>\n",
              "    .dataframe tbody tr th:only-of-type {\n",
              "        vertical-align: middle;\n",
              "    }\n",
              "\n",
              "    .dataframe tbody tr th {\n",
              "        vertical-align: top;\n",
              "    }\n",
              "\n",
              "    .dataframe thead th {\n",
              "        text-align: right;\n",
              "    }\n",
              "</style>\n",
              "<table border=\"1\" class=\"dataframe\">\n",
              "  <thead>\n",
              "    <tr style=\"text-align: right;\">\n",
              "      <th></th>\n",
              "      <th>recommendation_id</th>\n",
              "      <th>created_at</th>\n",
              "      <th>tasker_id</th>\n",
              "      <th>position</th>\n",
              "      <th>hourly_rate</th>\n",
              "      <th>num_completed_tasks</th>\n",
              "      <th>hired</th>\n",
              "      <th>category</th>\n",
              "    </tr>\n",
              "  </thead>\n",
              "  <tbody>\n",
              "    <tr>\n",
              "      <th>0</th>\n",
              "      <td>0-0-70cf97d7-37af-4834-901c-ce3ad4893b8c</td>\n",
              "      <td>2017-09-01 00:32:25</td>\n",
              "      <td>1009185352</td>\n",
              "      <td>1</td>\n",
              "      <td>38</td>\n",
              "      <td>151</td>\n",
              "      <td>0</td>\n",
              "      <td>Furniture Assembly</td>\n",
              "    </tr>\n",
              "    <tr>\n",
              "      <th>1</th>\n",
              "      <td>0-0-70cf97d7-37af-4834-901c-ce3ad4893b8c</td>\n",
              "      <td>2017-09-01 00:32:25</td>\n",
              "      <td>1006892359</td>\n",
              "      <td>2</td>\n",
              "      <td>40</td>\n",
              "      <td>193</td>\n",
              "      <td>0</td>\n",
              "      <td>Furniture Assembly</td>\n",
              "    </tr>\n",
              "    <tr>\n",
              "      <th>2</th>\n",
              "      <td>0-0-70cf97d7-37af-4834-901c-ce3ad4893b8c</td>\n",
              "      <td>2017-09-01 00:32:25</td>\n",
              "      <td>1012023956</td>\n",
              "      <td>3</td>\n",
              "      <td>28</td>\n",
              "      <td>0</td>\n",
              "      <td>0</td>\n",
              "      <td>Furniture Assembly</td>\n",
              "    </tr>\n",
              "    <tr>\n",
              "      <th>3</th>\n",
              "      <td>0-0-70cf97d7-37af-4834-901c-ce3ad4893b8c</td>\n",
              "      <td>2017-09-01 00:32:25</td>\n",
              "      <td>1009733517</td>\n",
              "      <td>4</td>\n",
              "      <td>43</td>\n",
              "      <td>303</td>\n",
              "      <td>0</td>\n",
              "      <td>Furniture Assembly</td>\n",
              "    </tr>\n",
              "    <tr>\n",
              "      <th>4</th>\n",
              "      <td>0-0-70cf97d7-37af-4834-901c-ce3ad4893b8c</td>\n",
              "      <td>2017-09-01 00:32:25</td>\n",
              "      <td>1013579273</td>\n",
              "      <td>5</td>\n",
              "      <td>29</td>\n",
              "      <td>39</td>\n",
              "      <td>0</td>\n",
              "      <td>Furniture Assembly</td>\n",
              "    </tr>\n",
              "  </tbody>\n",
              "</table>\n",
              "</div>"
            ],
            "text/plain": [
              "                          recommendation_id           created_at   tasker_id  \\\n",
              "0  0-0-70cf97d7-37af-4834-901c-ce3ad4893b8c  2017-09-01 00:32:25  1009185352   \n",
              "1  0-0-70cf97d7-37af-4834-901c-ce3ad4893b8c  2017-09-01 00:32:25  1006892359   \n",
              "2  0-0-70cf97d7-37af-4834-901c-ce3ad4893b8c  2017-09-01 00:32:25  1012023956   \n",
              "3  0-0-70cf97d7-37af-4834-901c-ce3ad4893b8c  2017-09-01 00:32:25  1009733517   \n",
              "4  0-0-70cf97d7-37af-4834-901c-ce3ad4893b8c  2017-09-01 00:32:25  1013579273   \n",
              "\n",
              "   position  hourly_rate  num_completed_tasks  hired            category  \n",
              "0         1           38                  151      0  Furniture Assembly  \n",
              "1         2           40                  193      0  Furniture Assembly  \n",
              "2         3           28                    0      0  Furniture Assembly  \n",
              "3         4           43                  303      0  Furniture Assembly  \n",
              "4         5           29                   39      0  Furniture Assembly  "
            ]
          },
          "metadata": {
            "tags": []
          },
          "execution_count": 2
        }
      ]
    },
    {
      "cell_type": "code",
      "metadata": {
        "id": "mX-V61jbUast",
        "colab_type": "code",
        "colab": {},
        "outputId": "6e725eb3-74e4-4c95-b295-b60ff86faa8d"
      },
      "source": [
        "hired = data[data['hired']==1]\n",
        "hired.head()"
      ],
      "execution_count": 0,
      "outputs": [
        {
          "output_type": "execute_result",
          "data": {
            "text/html": [
              "<div>\n",
              "<style scoped>\n",
              "    .dataframe tbody tr th:only-of-type {\n",
              "        vertical-align: middle;\n",
              "    }\n",
              "\n",
              "    .dataframe tbody tr th {\n",
              "        vertical-align: top;\n",
              "    }\n",
              "\n",
              "    .dataframe thead th {\n",
              "        text-align: right;\n",
              "    }\n",
              "</style>\n",
              "<table border=\"1\" class=\"dataframe\">\n",
              "  <thead>\n",
              "    <tr style=\"text-align: right;\">\n",
              "      <th></th>\n",
              "      <th>recommendation_id</th>\n",
              "      <th>created_at</th>\n",
              "      <th>tasker_id</th>\n",
              "      <th>position</th>\n",
              "      <th>hourly_rate</th>\n",
              "      <th>num_completed_tasks</th>\n",
              "      <th>hired</th>\n",
              "      <th>category</th>\n",
              "    </tr>\n",
              "  </thead>\n",
              "  <tbody>\n",
              "    <tr>\n",
              "      <th>12</th>\n",
              "      <td>0-0-70cf97d7-37af-4834-901c-ce3ad4893b8c</td>\n",
              "      <td>2017-09-01 00:32:25</td>\n",
              "      <td>1009856900</td>\n",
              "      <td>13</td>\n",
              "      <td>50</td>\n",
              "      <td>914</td>\n",
              "      <td>1</td>\n",
              "      <td>Furniture Assembly</td>\n",
              "    </tr>\n",
              "    <tr>\n",
              "      <th>24</th>\n",
              "      <td>0-0-cdb916a3-2b2d-4e46-941b-3146c0b12132</td>\n",
              "      <td>2017-09-01 00:32:35</td>\n",
              "      <td>1009856900</td>\n",
              "      <td>10</td>\n",
              "      <td>50</td>\n",
              "      <td>914</td>\n",
              "      <td>1</td>\n",
              "      <td>Furniture Assembly</td>\n",
              "    </tr>\n",
              "    <tr>\n",
              "      <th>32</th>\n",
              "      <td>0-0-653cb826-b672-4ddb-92a5-c0e77402a320</td>\n",
              "      <td>2017-09-01 00:33:14</td>\n",
              "      <td>1011985968</td>\n",
              "      <td>3</td>\n",
              "      <td>32</td>\n",
              "      <td>0</td>\n",
              "      <td>1</td>\n",
              "      <td>Moving Help</td>\n",
              "    </tr>\n",
              "    <tr>\n",
              "      <th>48</th>\n",
              "      <td>0-0-0cad007f-10da-4ea6-aca1-5eb48e656db3</td>\n",
              "      <td>2017-09-01 00:58:50</td>\n",
              "      <td>1009114267</td>\n",
              "      <td>4</td>\n",
              "      <td>95</td>\n",
              "      <td>1053</td>\n",
              "      <td>1</td>\n",
              "      <td>Moving Help</td>\n",
              "    </tr>\n",
              "    <tr>\n",
              "      <th>81</th>\n",
              "      <td>0-0-e930ff65-388e-4802-87d1-a3c7f316935e</td>\n",
              "      <td>2017-09-01 01:14:53</td>\n",
              "      <td>1009072269</td>\n",
              "      <td>11</td>\n",
              "      <td>35</td>\n",
              "      <td>59</td>\n",
              "      <td>1</td>\n",
              "      <td>Furniture Assembly</td>\n",
              "    </tr>\n",
              "  </tbody>\n",
              "</table>\n",
              "</div>"
            ],
            "text/plain": [
              "                           recommendation_id           created_at   tasker_id  \\\n",
              "12  0-0-70cf97d7-37af-4834-901c-ce3ad4893b8c  2017-09-01 00:32:25  1009856900   \n",
              "24  0-0-cdb916a3-2b2d-4e46-941b-3146c0b12132  2017-09-01 00:32:35  1009856900   \n",
              "32  0-0-653cb826-b672-4ddb-92a5-c0e77402a320  2017-09-01 00:33:14  1011985968   \n",
              "48  0-0-0cad007f-10da-4ea6-aca1-5eb48e656db3  2017-09-01 00:58:50  1009114267   \n",
              "81  0-0-e930ff65-388e-4802-87d1-a3c7f316935e  2017-09-01 01:14:53  1009072269   \n",
              "\n",
              "    position  hourly_rate  num_completed_tasks  hired            category  \n",
              "12        13           50                  914      1  Furniture Assembly  \n",
              "24        10           50                  914      1  Furniture Assembly  \n",
              "32         3           32                    0      1         Moving Help  \n",
              "48         4           95                 1053      1         Moving Help  \n",
              "81        11           35                   59      1  Furniture Assembly  "
            ]
          },
          "metadata": {
            "tags": []
          },
          "execution_count": 5
        }
      ]
    },
    {
      "cell_type": "code",
      "metadata": {
        "scrolled": true,
        "id": "xUKqmKRBUasw",
        "colab_type": "code",
        "colab": {},
        "outputId": "28d2b864-504e-496d-c654-ba9696377af0"
      },
      "source": [
        "data = data.append([hired]*14,ignore_index=True)\n",
        "data.describe()"
      ],
      "execution_count": 0,
      "outputs": [
        {
          "output_type": "execute_result",
          "data": {
            "text/html": [
              "<div>\n",
              "<style scoped>\n",
              "    .dataframe tbody tr th:only-of-type {\n",
              "        vertical-align: middle;\n",
              "    }\n",
              "\n",
              "    .dataframe tbody tr th {\n",
              "        vertical-align: top;\n",
              "    }\n",
              "\n",
              "    .dataframe thead th {\n",
              "        text-align: right;\n",
              "    }\n",
              "</style>\n",
              "<table border=\"1\" class=\"dataframe\">\n",
              "  <thead>\n",
              "    <tr style=\"text-align: right;\">\n",
              "      <th></th>\n",
              "      <th>tasker_id</th>\n",
              "      <th>position</th>\n",
              "      <th>hourly_rate</th>\n",
              "      <th>num_completed_tasks</th>\n",
              "      <th>hired</th>\n",
              "    </tr>\n",
              "  </thead>\n",
              "  <tbody>\n",
              "    <tr>\n",
              "      <th>count</th>\n",
              "      <td>5.387000e+04</td>\n",
              "      <td>53870.000000</td>\n",
              "      <td>53870.000000</td>\n",
              "      <td>53870.000000</td>\n",
              "      <td>53870.000000</td>\n",
              "    </tr>\n",
              "    <tr>\n",
              "      <th>mean</th>\n",
              "      <td>1.011110e+09</td>\n",
              "      <td>6.208131</td>\n",
              "      <td>54.440913</td>\n",
              "      <td>242.359699</td>\n",
              "      <td>0.474754</td>\n",
              "    </tr>\n",
              "    <tr>\n",
              "      <th>std</th>\n",
              "      <td>2.455992e+06</td>\n",
              "      <td>4.464780</td>\n",
              "      <td>31.000554</td>\n",
              "      <td>286.389599</td>\n",
              "      <td>0.499367</td>\n",
              "    </tr>\n",
              "    <tr>\n",
              "      <th>min</th>\n",
              "      <td>1.006647e+09</td>\n",
              "      <td>1.000000</td>\n",
              "      <td>18.000000</td>\n",
              "      <td>0.000000</td>\n",
              "      <td>0.000000</td>\n",
              "    </tr>\n",
              "    <tr>\n",
              "      <th>25%</th>\n",
              "      <td>1.009063e+09</td>\n",
              "      <td>2.000000</td>\n",
              "      <td>38.000000</td>\n",
              "      <td>32.000000</td>\n",
              "      <td>0.000000</td>\n",
              "    </tr>\n",
              "    <tr>\n",
              "      <th>50%</th>\n",
              "      <td>1.010579e+09</td>\n",
              "      <td>5.000000</td>\n",
              "      <td>45.000000</td>\n",
              "      <td>135.000000</td>\n",
              "      <td>0.000000</td>\n",
              "    </tr>\n",
              "    <tr>\n",
              "      <th>75%</th>\n",
              "      <td>1.013444e+09</td>\n",
              "      <td>10.000000</td>\n",
              "      <td>60.000000</td>\n",
              "      <td>334.000000</td>\n",
              "      <td>1.000000</td>\n",
              "    </tr>\n",
              "    <tr>\n",
              "      <th>max</th>\n",
              "      <td>1.015020e+09</td>\n",
              "      <td>15.000000</td>\n",
              "      <td>290.000000</td>\n",
              "      <td>1406.000000</td>\n",
              "      <td>1.000000</td>\n",
              "    </tr>\n",
              "  </tbody>\n",
              "</table>\n",
              "</div>"
            ],
            "text/plain": [
              "          tasker_id      position   hourly_rate  num_completed_tasks  \\\n",
              "count  5.387000e+04  53870.000000  53870.000000         53870.000000   \n",
              "mean   1.011110e+09      6.208131     54.440913           242.359699   \n",
              "std    2.455992e+06      4.464780     31.000554           286.389599   \n",
              "min    1.006647e+09      1.000000     18.000000             0.000000   \n",
              "25%    1.009063e+09      2.000000     38.000000            32.000000   \n",
              "50%    1.010579e+09      5.000000     45.000000           135.000000   \n",
              "75%    1.013444e+09     10.000000     60.000000           334.000000   \n",
              "max    1.015020e+09     15.000000    290.000000          1406.000000   \n",
              "\n",
              "              hired  \n",
              "count  53870.000000  \n",
              "mean       0.474754  \n",
              "std        0.499367  \n",
              "min        0.000000  \n",
              "25%        0.000000  \n",
              "50%        0.000000  \n",
              "75%        1.000000  \n",
              "max        1.000000  "
            ]
          },
          "metadata": {
            "tags": []
          },
          "execution_count": 6
        }
      ]
    },
    {
      "cell_type": "markdown",
      "metadata": {
        "id": "9xyImC8fUasz",
        "colab_type": "text"
      },
      "source": [
        "## Data Exploration: Overall"
      ]
    },
    {
      "cell_type": "markdown",
      "metadata": {
        "id": "de-ieuzmafFH",
        "colab_type": "text"
      },
      "source": [
        "After preparing the data, I first looked at the overall correlation between variables using a correlation heat map. From the heat map, we can see that whether the Tasker was hired was negatively correlated with position and hourly rate, and positively correlated with the number of tasks completed. These relationships are more clearly shown in the three bar plots below."
      ]
    },
    {
      "cell_type": "code",
      "metadata": {
        "id": "SnuuAAedUas0",
        "colab_type": "code",
        "colab": {},
        "outputId": "d922228d-f4d1-4e5e-a06c-1bcf7b374dc6"
      },
      "source": [
        "corr = data[['position','hourly_rate','num_completed_tasks','hired']].corr()\n",
        "sns.heatmap(corr, \n",
        "            xticklabels=corr.columns.values,\n",
        "            yticklabels=corr.columns.values, \n",
        "            annot=True, linewidths=0.05, fmt= '.2f', cmap='YlGnBu')"
      ],
      "execution_count": 0,
      "outputs": [
        {
          "output_type": "execute_result",
          "data": {
            "text/plain": [
              "<matplotlib.axes._subplots.AxesSubplot at 0x1a491bcf28>"
            ]
          },
          "metadata": {
            "tags": []
          },
          "execution_count": 451
        },
        {
          "output_type": "display_data",
          "data": {
            "image/png": "[encoded data removed]",
            "text/plain": [
              "<Figure size 432x288 with 2 Axes>"
            ]
          },
          "metadata": {
            "tags": []
          }
        }
      ]
    },
    {
      "cell_type": "code",
      "metadata": {
        "id": "p7CLDz9iUas5",
        "colab_type": "code",
        "colab": {},
        "outputId": "93830568-b43f-4739-9cf8-8c088f48571c"
      },
      "source": [
        "sns.barplot(x=\"hired\", y=\"hourly_rate\", data=data)"
      ],
      "execution_count": 0,
      "outputs": [
        {
          "output_type": "execute_result",
          "data": {
            "text/plain": [
              "<matplotlib.axes._subplots.AxesSubplot at 0x1a4a278400>"
            ]
          },
          "metadata": {
            "tags": []
          },
          "execution_count": 452
        },
        {
          "output_type": "display_data",
          "data": {
            "image/png": "[encoded data removed]",
            "text/plain": [
              "<Figure size 432x288 with 1 Axes>"
            ]
          },
          "metadata": {
            "tags": []
          }
        }
      ]
    },
    {
      "cell_type": "code",
      "metadata": {
        "scrolled": true,
        "id": "cwg2LLWtUas9",
        "colab_type": "code",
        "colab": {},
        "outputId": "7b849f6c-041b-4055-d978-c23c31012a01"
      },
      "source": [
        "sns.barplot(x=\"hired\", y=\"num_completed_tasks\", data=data)"
      ],
      "execution_count": 0,
      "outputs": [
        {
          "output_type": "execute_result",
          "data": {
            "text/plain": [
              "<matplotlib.axes._subplots.AxesSubplot at 0x1a47c184a8>"
            ]
          },
          "metadata": {
            "tags": []
          },
          "execution_count": 453
        },
        {
          "output_type": "display_data",
          "data": {
            "image/png": "[encoded data removed]",
            "text/plain": [
              "<Figure size 432x288 with 1 Axes>"
            ]
          },
          "metadata": {
            "tags": []
          }
        }
      ]
    },
    {
      "cell_type": "code",
      "metadata": {
        "id": "RwUkTfBuUatD",
        "colab_type": "code",
        "colab": {},
        "outputId": "b9fe3c74-4275-4fde-b1aa-1aa249bd01fa"
      },
      "source": [
        "sns.barplot(x=\"hired\", y=\"position\", data=data)"
      ],
      "execution_count": 0,
      "outputs": [
        {
          "output_type": "execute_result",
          "data": {
            "text/plain": [
              "<matplotlib.axes._subplots.AxesSubplot at 0x1a476a0470>"
            ]
          },
          "metadata": {
            "tags": []
          },
          "execution_count": 454
        },
        {
          "output_type": "display_data",
          "data": {
            "image/png": "[encoded data removed]",
            "text/plain": [
              "<Figure size 432x288 with 1 Axes>"
            ]
          },
          "metadata": {
            "tags": []
          }
        }
      ]
    },
    {
      "cell_type": "markdown",
      "metadata": {
        "id": "9UnKKuY-UatI",
        "colab_type": "text"
      },
      "source": [
        "## Explore Three Categories"
      ]
    },
    {
      "cell_type": "markdown",
      "metadata": {
        "id": "8y2nFwWvallb",
        "colab_type": "text"
      },
      "source": [
        "There are three categories of work in the dataset. For each category, the ranges of hourly rate and number of Tasks completed varied. Thus, to increase the modeling accuracy, I partitioned the dataset on category and performed analysis within each category."
      ]
    },
    {
      "cell_type": "code",
      "metadata": {
        "id": "J2-iZuUWUatJ",
        "colab_type": "code",
        "colab": {},
        "outputId": "5c7572e0-d4c9-4d0f-dfa6-daddb3294400"
      },
      "source": [
        "data.category.unique()"
      ],
      "execution_count": 0,
      "outputs": [
        {
          "output_type": "execute_result",
          "data": {
            "text/plain": [
              "array(['Furniture Assembly', 'Moving Help', 'Mounting'], dtype=object)"
            ]
          },
          "metadata": {
            "tags": []
          },
          "execution_count": 455
        }
      ]
    },
    {
      "cell_type": "code",
      "metadata": {
        "id": "Yds7TMicUatL",
        "colab_type": "code",
        "colab": {}
      },
      "source": [
        "assembly = data[data[\"category\"]==\"Furniture Assembly\"]\n",
        "moving = data[data[\"category\"]==\"Moving Help\"]\n",
        "mounting = data[data[\"category\"]==\"Mounting\"]"
      ],
      "execution_count": 0,
      "outputs": []
    },
    {
      "cell_type": "code",
      "metadata": {
        "id": "aM1WnkMbUatN",
        "colab_type": "code",
        "colab": {},
        "outputId": "a599cb64-82df-4027-8785-7202ceef3ec1"
      },
      "source": [
        "plt.subplots(figsize =(10, 5)) \n",
        "sns.distplot(assembly['hourly_rate'] , color='red', label='assembly')\n",
        "sns.distplot(moving['hourly_rate'] , color='green', label='moving')\n",
        "sns.distplot(mounting['hourly_rate'] , color='yellow', label='mounting')\n",
        "plt.suptitle('Hourly Rate vs Hired')\n",
        "plt.legend()\n",
        "plt.show()"
      ],
      "execution_count": 0,
      "outputs": [
        {
          "output_type": "display_data",
          "data": {
            "image/png": "[encoded data removed]",
            "text/plain": [
              "<Figure size 720x360 with 1 Axes>"
            ]
          },
          "metadata": {
            "tags": []
          }
        }
      ]
    },
    {
      "cell_type": "markdown",
      "metadata": {
        "id": "NzcjyWzrUatR",
        "colab_type": "text"
      },
      "source": [
        "## Data Exploration: Furniture Assembly Category as an Example"
      ]
    },
    {
      "cell_type": "markdown",
      "metadata": {
        "id": "94lpXYujarp2",
        "colab_type": "text"
      },
      "source": [
        "I used “Furniture Assembly” category as an example in this project. A correlation heat map for this category is created which shows similar patterns as the overall data set.\n",
        "I took out the three features to look at their relationships with “hired or not”. From the three graphs below, we can see that taskers positioned at the top and with lower hourly rate and more tasks completed are more likely to be hired."
      ]
    },
    {
      "cell_type": "code",
      "metadata": {
        "id": "tphFMjcYUatR",
        "colab_type": "code",
        "colab": {},
        "outputId": "7b7d27df-48ce-4a4d-87a7-7c0a0cf15e48"
      },
      "source": [
        "corr = assembly[['position','hourly_rate','num_completed_tasks','hired']].corr()\n",
        "sns.heatmap(corr, \n",
        "            xticklabels=corr.columns.values,\n",
        "            yticklabels=corr.columns.values, \n",
        "            annot=True, linewidths=0.05, fmt= '.2f', cmap='YlGnBu')"
      ],
      "execution_count": 0,
      "outputs": [
        {
          "output_type": "execute_result",
          "data": {
            "text/plain": [
              "<matplotlib.axes._subplots.AxesSubplot at 0x1a4aef9cf8>"
            ]
          },
          "metadata": {
            "tags": []
          },
          "execution_count": 459
        },
        {
          "output_type": "display_data",
          "data": {
            "image/png": "[encoded data removed]",
            "text/plain": [
              "<Figure size 432x288 with 2 Axes>"
            ]
          },
          "metadata": {
            "tags": []
          }
        }
      ]
    },
    {
      "cell_type": "code",
      "metadata": {
        "id": "hVndmzq9UatW",
        "colab_type": "code",
        "colab": {}
      },
      "source": [
        "hired=data.loc[:,'hired']==1\n",
        "not_hired=data.loc[:,'hired']==0"
      ],
      "execution_count": 0,
      "outputs": []
    },
    {
      "cell_type": "code",
      "metadata": {
        "id": "d_ibc2viUatc",
        "colab_type": "code",
        "colab": {},
        "outputId": "3815a413-91e9-468c-b3a9-fb40f36c6c4a"
      },
      "source": [
        "plt.subplots(figsize =(10, 5)) \n",
        "sns.distplot(assembly[hired]['position'] , color='lightgreen', label='hired')\n",
        "sns.distplot(assembly[not_hired]['position'] , color='red', label='not hired')\n",
        "plt.suptitle('Position vs Hired')\n",
        "plt.legend()\n",
        "plt.show()"
      ],
      "execution_count": 0,
      "outputs": [
        {
          "output_type": "display_data",
          "data": {
            "image/png": "[encoded data removed]",
            "text/plain": [
              "<Figure size 720x360 with 1 Axes>"
            ]
          },
          "metadata": {
            "tags": []
          }
        }
      ]
    },
    {
      "cell_type": "code",
      "metadata": {
        "id": "yU0W4Lu2Uati",
        "colab_type": "code",
        "colab": {},
        "outputId": "8684a228-f9c6-4d86-a9d0-ac017f713f5e"
      },
      "source": [
        "plt.subplots(figsize =(10, 5)) \n",
        "sns.distplot(assembly[hired]['num_completed_tasks'] , color='lightgreen', label='hired')\n",
        "sns.distplot(assembly[not_hired]['num_completed_tasks'] , color='red', label='not hired')\n",
        "plt.suptitle('Number of Tasks Completed vs Hired')\n",
        "plt.legend()\n",
        "plt.show()"
      ],
      "execution_count": 0,
      "outputs": [
        {
          "output_type": "display_data",
          "data": {
            "image/png": "[encoded data removed]",
            "text/plain": [
              "<Figure size 720x360 with 1 Axes>"
            ]
          },
          "metadata": {
            "tags": []
          }
        }
      ]
    },
    {
      "cell_type": "code",
      "metadata": {
        "id": "dSULLxI6Uatm",
        "colab_type": "code",
        "colab": {},
        "outputId": "dfea9fc2-5975-4194-9f2c-52a4c6059b2a"
      },
      "source": [
        "plt.subplots(figsize =(10, 5)) \n",
        "sns.distplot(assembly[hired]['hourly_rate'] , color='lightgreen', label='hired')\n",
        "sns.distplot(assembly[not_hired]['hourly_rate'] , color='red', label='not hired')\n",
        "plt.suptitle('Hourly Rate vs Hired')\n",
        "plt.legend()\n",
        "plt.show()"
      ],
      "execution_count": 0,
      "outputs": [
        {
          "output_type": "display_data",
          "data": {
            "image/png": "[encoded data removed]",
            "text/plain": [
              "<Figure size 720x360 with 1 Axes>"
            ]
          },
          "metadata": {
            "tags": []
          }
        }
      ]
    },
    {
      "cell_type": "markdown",
      "metadata": {
        "id": "DC06DT25Uatq",
        "colab_type": "text"
      },
      "source": [
        "## Modeling & Evaluation"
      ]
    },
    {
      "cell_type": "markdown",
      "metadata": {
        "id": "r024EmKsawWL",
        "colab_type": "text"
      },
      "source": [
        "Three classification models are used in my analysis to capture the relationships between tasker features and hiring decision,"
      ]
    },
    {
      "cell_type": "code",
      "metadata": {
        "id": "UWK6dWPSUats",
        "colab_type": "code",
        "colab": {}
      },
      "source": [
        "# Seperate features and target\n",
        "X=assembly[['position','hourly_rate','num_completed_tasks']]\n",
        "y=assembly['hired']\n",
        "\n",
        "# Train/Test split\n",
        "X_train, X_test, y_train, y_test = train_test_split(X, y, test_size=0.3, random_state=100, stratify=y)"
      ],
      "execution_count": 0,
      "outputs": []
    },
    {
      "cell_type": "markdown",
      "metadata": {
        "id": "SLGeWKC2Uatw",
        "colab_type": "text"
      },
      "source": [
        "## Model 1: Random Forest with GridSearch"
      ]
    },
    {
      "cell_type": "markdown",
      "metadata": {
        "id": "3WujizQxa4wA",
        "colab_type": "text"
      },
      "source": [
        "I first used Random Forest due to its robustness in handling bias, outliers and unbalanced data. Additionally, I applied GridSearch to find the best combination of parameters for the model, which achieves 0.896 accuracy, 0.89 precision and 0.9 recall on the testing set in predicting “hired”. The classification report, confusion matrix, and ROC curves are shown below."
      ]
    },
    {
      "cell_type": "markdown",
      "metadata": {
        "id": "lalgtDSeUatw",
        "colab_type": "text"
      },
      "source": [
        "### Set up hyperparameter grid"
      ]
    },
    {
      "cell_type": "code",
      "metadata": {
        "id": "TauMyrsFUatx",
        "colab_type": "code",
        "colab": {}
      },
      "source": [
        "param_grid = {'n_estimators': [200,300,400,500],\n",
        "    'max_features': ['auto', 'sqrt', 'log2'],\n",
        "    'max_depth' : np.arange(3,10),\n",
        "    'min_samples_leaf': np.arange(2,8),\n",
        "    'criterion' :['gini', 'entropy']}"
      ],
      "execution_count": 0,
      "outputs": []
    },
    {
      "cell_type": "markdown",
      "metadata": {
        "id": "cEYEzYKjUat1",
        "colab_type": "text"
      },
      "source": [
        "### GridSearch for best parameters"
      ]
    },
    {
      "cell_type": "code",
      "metadata": {
        "id": "gm6lQ3XrUat2",
        "colab_type": "code",
        "colab": {},
        "outputId": "1bec1a81-e779-439f-c386-5e3a97e0eeb3"
      },
      "source": [
        "rfc=RandomForestClassifier(random_state=1)\n",
        "rfc_cv = RandomizedSearchCV(rfc, param_grid, cv=10)\n",
        "rfc_cv.fit(X_train, y_train)\n",
        "rfc_cv.best_params_"
      ],
      "execution_count": 0,
      "outputs": [
        {
          "output_type": "execute_result",
          "data": {
            "text/plain": [
              "{'n_estimators': 400,\n",
              " 'min_samples_leaf': 2,\n",
              " 'max_features': 'auto',\n",
              " 'max_depth': 9,\n",
              " 'criterion': 'entropy'}"
            ]
          },
          "metadata": {
            "tags": []
          },
          "execution_count": 469
        }
      ]
    },
    {
      "cell_type": "markdown",
      "metadata": {
        "id": "OuZdebEpUat6",
        "colab_type": "text"
      },
      "source": [
        "### Use the best parameters to predict"
      ]
    },
    {
      "cell_type": "code",
      "metadata": {
        "id": "bnpzERKKUat7",
        "colab_type": "code",
        "colab": {},
        "outputId": "51e16e89-2ae4-47fe-e848-96c50875fa62"
      },
      "source": [
        "rfc_cv.score(X_test,y_test)"
      ],
      "execution_count": 0,
      "outputs": [
        {
          "output_type": "execute_result",
          "data": {
            "text/plain": [
              "0.8961687951138256"
            ]
          },
          "metadata": {
            "tags": []
          },
          "execution_count": 481
        }
      ]
    },
    {
      "cell_type": "code",
      "metadata": {
        "id": "V-SNoS0ZUat-",
        "colab_type": "code",
        "colab": {},
        "outputId": "b0ac0c74-a96c-4b19-9943-b63ae21c5611"
      },
      "source": [
        "cm = ConfusionMatrix(rfc_cv, classes=[0,1])\n",
        "cm.fit(X_train, y_train)\n",
        "cm.score(X_test, y_test)\n",
        "cm.poof()"
      ],
      "execution_count": 0,
      "outputs": [
        {
          "output_type": "display_data",
          "data": {
            "image/png": "[encoded data removed]",
            "text/plain": [
              "<Figure size 432x288 with 1 Axes>"
            ]
          },
          "metadata": {
            "tags": []
          }
        }
      ]
    },
    {
      "cell_type": "code",
      "metadata": {
        "id": "CUjrpW0FUauG",
        "colab_type": "code",
        "colab": {},
        "outputId": "5c04fb4d-0ff7-4d71-a60d-e62840bf7f0d"
      },
      "source": [
        "y_pred = rfc_cv.predict(X_test)\n",
        "print(classification_report(y_test, y_pred))"
      ],
      "execution_count": 0,
      "outputs": [
        {
          "output_type": "stream",
          "text": [
            "              precision    recall  f1-score   support\n",
            "\n",
            "           0       0.91      0.90      0.90      2829\n",
            "           1       0.89      0.90      0.89      2574\n",
            "\n",
            "    accuracy                           0.90      5403\n",
            "   macro avg       0.90      0.90      0.90      5403\n",
            "weighted avg       0.90      0.90      0.90      5403\n",
            "\n"
          ],
          "name": "stdout"
        }
      ]
    },
    {
      "cell_type": "code",
      "metadata": {
        "id": "DfILlhFXUauJ",
        "colab_type": "code",
        "colab": {},
        "outputId": "163a5157-9cfe-48b3-a1ab-9df50258e463"
      },
      "source": [
        "# Instantiate the visualizer with the classification model\n",
        "visualizer = ROCAUC(rfc_cv)\n",
        "\n",
        "visualizer.fit(X_train, y_train)  # Fit the training data to the visualizer\n",
        "visualizer.score(X_test, y_test)  # Evaluate the model on the test data\n",
        "g = visualizer.poof()             # Draw/show/poof the data"
      ],
      "execution_count": 0,
      "outputs": [
        {
          "output_type": "display_data",
          "data": {
            "image/png": "[encoded data removed]",
            "text/plain": [
              "<Figure size 432x288 with 1 Axes>"
            ]
          },
          "metadata": {
            "tags": []
          }
        }
      ]
    },
    {
      "cell_type": "code",
      "metadata": {
        "id": "PRwpjWuqUauN",
        "colab_type": "code",
        "colab": {},
        "outputId": "673fdeb4-dd5a-47c0-aa1c-d9eb6fb5e559"
      },
      "source": [
        "best_rfc = RandomForestClassifier(criterion='entropy', max_depth=9, max_features='auto', min_samples_leaf=2, n_estimators=400, random_state=1)\n",
        "best_rfc = best_rfc.fit(X_train,y_train)\n",
        "list(zip(X,best_rfc.feature_importances_))"
      ],
      "execution_count": 0,
      "outputs": [
        {
          "output_type": "execute_result",
          "data": {
            "text/plain": [
              "[('position', 0.5078958881599928),\n",
              " ('hourly_rate', 0.17687870115228096),\n",
              " ('num_completed_tasks', 0.3152254106877262)]"
            ]
          },
          "metadata": {
            "tags": []
          },
          "execution_count": 485
        }
      ]
    },
    {
      "cell_type": "markdown",
      "metadata": {
        "id": "Z2YUG3C3UauP",
        "colab_type": "text"
      },
      "source": [
        "## Model 2: Auto ML with TPOT"
      ]
    },
    {
      "cell_type": "markdown",
      "metadata": {
        "id": "biYxZ7LMa-gM",
        "colab_type": "text"
      },
      "source": [
        "I then used Auto ML due to its power in feature engineering, model selection, and parameter optimization. This model achieves 0.969 accuracy, 0.94 precision and 1 recall on the testing set in predicting “hired”."
      ]
    },
    {
      "cell_type": "code",
      "metadata": {
        "id": "-DbPrYU3UauQ",
        "colab_type": "code",
        "colab": {},
        "outputId": "b7b8dcd2-a049-4e62-aadf-3119ba2ecabe"
      },
      "source": [
        "tpot = TPOTClassifier(generations=10)\n",
        "tpot.fit(X_train, y_train)"
      ],
      "execution_count": 0,
      "outputs": [
        {
          "output_type": "execute_result",
          "data": {
            "text/plain": [
              "TPOTClassifier(config_dict=None, crossover_rate=0.1, cv=5,\n",
              "               disable_update_check=False, early_stop=None, generations=10,\n",
              "               max_eval_time_mins=5, max_time_mins=None, memory=None,\n",
              "               mutation_rate=0.9, n_jobs=1, offspring_size=None,\n",
              "               periodic_checkpoint_folder=None, population_size=100,\n",
              "               random_state=None, scoring=None, subsample=1.0,\n",
              "               template='RandomTree', use_dask=False, verbosity=0,\n",
              "               warm_start=False)"
            ]
          },
          "metadata": {
            "tags": []
          },
          "execution_count": 419
        }
      ]
    },
    {
      "cell_type": "code",
      "metadata": {
        "id": "xjuWQG3TUauT",
        "colab_type": "code",
        "colab": {},
        "outputId": "1ea36966-d722-465d-be7b-828b8fd2ed87"
      },
      "source": [
        "tpot.score(X_test,y_test)"
      ],
      "execution_count": 0,
      "outputs": [
        {
          "output_type": "execute_result",
          "data": {
            "text/plain": [
              "0.9690912456042939"
            ]
          },
          "metadata": {
            "tags": []
          },
          "execution_count": 420
        }
      ]
    },
    {
      "cell_type": "code",
      "metadata": {
        "id": "THfFD-AuUauY",
        "colab_type": "code",
        "colab": {},
        "outputId": "f8bcd31c-8e62-4b23-828c-4863a6dbc44e"
      },
      "source": [
        "y_pred = tpot.predict(X_test)\n",
        "print(classification_report(y_test, y_pred))"
      ],
      "execution_count": 0,
      "outputs": [
        {
          "output_type": "stream",
          "text": [
            "              precision    recall  f1-score   support\n",
            "\n",
            "           0       1.00      0.94      0.97      2829\n",
            "           1       0.94      1.00      0.97      2574\n",
            "\n",
            "    accuracy                           0.97      5403\n",
            "   macro avg       0.97      0.97      0.97      5403\n",
            "weighted avg       0.97      0.97      0.97      5403\n",
            "\n"
          ],
          "name": "stdout"
        }
      ]
    },
    {
      "cell_type": "markdown",
      "metadata": {
        "id": "HvaJNZs6Uaua",
        "colab_type": "text"
      },
      "source": [
        "## Model 3: Neural Network"
      ]
    },
    {
      "cell_type": "markdown",
      "metadata": {
        "id": "vkBmJvJTbA0D",
        "colab_type": "text"
      },
      "source": [
        "Both Random Forest and Auto ML model have high accuracy in predicting hiring decision in this sample data (30,000 data points). However, as the data size and complexity increases, these two models will not have enough computational power to work on big data. In this case, a neural network model will be a great choice.\n",
        "Using this data set, I built a neural network model. Since the sample data set is relatively small and clean, setting more layers or nodes might cause overfitting. Thus, I specified only two layers and 50 nodes in each layer. As more and more tasker features collected, we need to tune the parameters accordingly to increase the prediction power.\n",
        "Another reason to use neural network is that it not only can predict whether the tasker will be hired, but also can estimate their probability of being hired. As shown in the table below, we can see that for tasker hired, the predicted probability is very high (0.98). For those not hired, we can also see their probability to be hired."
      ]
    },
    {
      "cell_type": "code",
      "metadata": {
        "id": "ZGo5OhypUaub",
        "colab_type": "code",
        "colab": {},
        "outputId": "b3f59549-2ed7-4ca1-cfba-4f11afd4779d"
      },
      "source": [
        "# Specify input\n",
        "n_cols = X_train.shape[1]\n",
        "input_shape = (n_cols,)\n",
        "target = to_categorical(y_train)\n",
        "\n",
        "# Specify the model\n",
        "model = Sequential()\n",
        "model.add(Dense(50, activation='relu', input_shape = input_shape))\n",
        "model.add(Dense(50, activation='relu'))\n",
        "model.add(Dense(2, activation='softmax'))\n",
        "\n",
        "# Compile the model\n",
        "model.compile(optimizer=\"adam\", loss=\"categorical_crossentropy\", metrics=['accuracy'])\n",
        "\n",
        "# Define early_stopping_monitor\n",
        "early_stopping_monitor = EarlyStopping(patience=2)\n",
        "\n",
        "# Fit the model\n",
        "model.fit(X_train, target, epochs=10, validation_split=0.3, callbacks=[early_stopping_monitor])"
      ],
      "execution_count": 0,
      "outputs": [
        {
          "output_type": "stream",
          "text": [
            "Train on 8823 samples, validate on 3782 samples\n",
            "Epoch 1/10\n",
            "8823/8823 [==============================] - 2s 200us/step - loss: 0.9627 - acc: 0.6876 - val_loss: 0.5447 - val_acc: 0.7499\n",
            "Epoch 2/10\n",
            "8823/8823 [==============================] - 1s 77us/step - loss: 0.7193 - acc: 0.7144 - val_loss: 0.5353 - val_acc: 0.7485\n",
            "Epoch 3/10\n",
            "8823/8823 [==============================] - 1s 73us/step - loss: 0.7053 - acc: 0.7159 - val_loss: 0.5320 - val_acc: 0.7641\n",
            "Epoch 4/10\n",
            "8823/8823 [==============================] - 1s 71us/step - loss: 0.7431 - acc: 0.7174 - val_loss: 0.5349 - val_acc: 0.7565\n",
            "Epoch 5/10\n",
            "8823/8823 [==============================] - 1s 71us/step - loss: 0.6077 - acc: 0.7303 - val_loss: 0.6134 - val_acc: 0.7282\n"
          ],
          "name": "stdout"
        },
        {
          "output_type": "execute_result",
          "data": {
            "text/plain": [
              "<keras.callbacks.History at 0x1a2b06beb8>"
            ]
          },
          "metadata": {
            "tags": []
          },
          "execution_count": 47
        }
      ]
    },
    {
      "cell_type": "code",
      "metadata": {
        "id": "wamrxuWcUaug",
        "colab_type": "code",
        "colab": {},
        "outputId": "ebb07361-2b43-4ad0-aa19-09012d9823bc"
      },
      "source": [
        "predictions = model.predict(X_test)\n",
        "predictions[:,1]"
      ],
      "execution_count": 0,
      "outputs": [
        {
          "output_type": "execute_result",
          "data": {
            "text/plain": [
              "array([0.49927694, 0.19984333, 0.9849791 , ..., 0.14309968, 0.9301497 ,\n",
              "       0.06184568], dtype=float32)"
            ]
          },
          "metadata": {
            "tags": []
          },
          "execution_count": 48
        }
      ]
    },
    {
      "cell_type": "code",
      "metadata": {
        "id": "H51SQY1CUauk",
        "colab_type": "code",
        "colab": {},
        "outputId": "033b2f86-99f3-4167-c842-15270f534ec8"
      },
      "source": [
        "proba_hired = pd.concat([X_test, y_test], axis=1)\n",
        "proba_hired[\"probability_hired\"] = predictions[:,1]\n",
        "proba_hired.head()"
      ],
      "execution_count": 0,
      "outputs": [
        {
          "output_type": "execute_result",
          "data": {
            "text/html": [
              "<div>\n",
              "<style scoped>\n",
              "    .dataframe tbody tr th:only-of-type {\n",
              "        vertical-align: middle;\n",
              "    }\n",
              "\n",
              "    .dataframe tbody tr th {\n",
              "        vertical-align: top;\n",
              "    }\n",
              "\n",
              "    .dataframe thead th {\n",
              "        text-align: right;\n",
              "    }\n",
              "</style>\n",
              "<table border=\"1\" class=\"dataframe\">\n",
              "  <thead>\n",
              "    <tr style=\"text-align: right;\">\n",
              "      <th></th>\n",
              "      <th>position</th>\n",
              "      <th>hourly_rate</th>\n",
              "      <th>num_completed_tasks</th>\n",
              "      <th>hired</th>\n",
              "      <th>probability_hired</th>\n",
              "    </tr>\n",
              "  </thead>\n",
              "  <tbody>\n",
              "    <tr>\n",
              "      <th>14456</th>\n",
              "      <td>4</td>\n",
              "      <td>35</td>\n",
              "      <td>27</td>\n",
              "      <td>0</td>\n",
              "      <td>0.499277</td>\n",
              "    </tr>\n",
              "    <tr>\n",
              "      <th>4346</th>\n",
              "      <td>14</td>\n",
              "      <td>40</td>\n",
              "      <td>465</td>\n",
              "      <td>0</td>\n",
              "      <td>0.199843</td>\n",
              "    </tr>\n",
              "    <tr>\n",
              "      <th>39490</th>\n",
              "      <td>4</td>\n",
              "      <td>40</td>\n",
              "      <td>925</td>\n",
              "      <td>1</td>\n",
              "      <td>0.984979</td>\n",
              "    </tr>\n",
              "    <tr>\n",
              "      <th>17129</th>\n",
              "      <td>12</td>\n",
              "      <td>43</td>\n",
              "      <td>526</td>\n",
              "      <td>0</td>\n",
              "      <td>0.426887</td>\n",
              "    </tr>\n",
              "    <tr>\n",
              "      <th>4452</th>\n",
              "      <td>15</td>\n",
              "      <td>27</td>\n",
              "      <td>0</td>\n",
              "      <td>0</td>\n",
              "      <td>0.056335</td>\n",
              "    </tr>\n",
              "  </tbody>\n",
              "</table>\n",
              "</div>"
            ],
            "text/plain": [
              "       position  hourly_rate  num_completed_tasks  hired  probability_hired\n",
              "14456         4           35                   27      0           0.499277\n",
              "4346         14           40                  465      0           0.199843\n",
              "39490         4           40                  925      1           0.984979\n",
              "17129        12           43                  526      0           0.426887\n",
              "4452         15           27                    0      0           0.056335"
            ]
          },
          "metadata": {
            "tags": []
          },
          "execution_count": 49
        }
      ]
    },
    {
      "cell_type": "markdown",
      "metadata": {
        "id": "zt4qvreHbGp3",
        "colab_type": "text"
      },
      "source": [
        "## Model Deployment: Conclusion for Management\n",
        "This project uses furniture assembly category as an example to understand what makes a Client choose a tasker, and thus how can a Tasker maximize the opportunity to be hired. The same method can be applied to the other two categories.\n",
        "From both correlation heat map and feature importance, I found that position is the most important feature in determining the hiring decision. Hourly rate and Number of Tasks Completed are also correlated with the hiring decision.\n",
        "Using the Random Forest and Auto ML model, we can accurately predict whether the tasker would be\n",
        "  hired. Combining with Neural Network model, we can even calculate the probability of being hired of each tasker. This model can be used to suggest taskers on hourly rate. the company can even launch an intelligent recommendation tool based on this model to suggest hourly rate for each tasker.\n",
        "Finally, for position, this is out of the tasker’s control. However, it can be a leverage for the company. the company can create tier program to segment taskers and launch a new campaign based on that.\n"
      ]
    }
  ]
}